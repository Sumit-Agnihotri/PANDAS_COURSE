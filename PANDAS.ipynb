{
 "cells": [
  {
   "cell_type": "markdown",
   "metadata": {},
   "source": [
    "# INTRODUCTION TO PANDAS"
   ]
  },
  {
   "cell_type": "markdown",
   "metadata": {},
   "source": [
    "## What is Pandas?\n",
    "### Pandas is a Python library that provides data structures and data analysis tools for data manipulation and analysis. It is built on top of the NumPy package, which means Numpy is required for operating the Pandas."
   ]
  },
  {
   "cell_type": "markdown",
   "metadata": {},
   "source": [
    "## Why use Pandas?\n",
    "### 1:- Pandas allows us to analyze big data and make conclusions based on statistical theories.\n",
    "### 2:- Pandas can clean messy data sets, and make them readable and relevant.\n",
    "### 3:- Easy Data Cleaning and Transformation."
   ]
  },
  {
   "cell_type": "code",
   "execution_count": 1,
   "metadata": {},
   "outputs": [
    {
     "name": "stdout",
     "output_type": "stream",
     "text": [
      "Introduction to Pandas\n"
     ]
    }
   ],
   "source": [
    "print(\"Introduction to Pandas\")"
   ]
  },
  {
   "cell_type": "code",
   "execution_count": 7,
   "metadata": {},
   "outputs": [
    {
     "name": "stdout",
     "output_type": "stream",
     "text": [
      "Requirement already satisfied: pandas in c:\\users\\sagni\\appdata\\local\\programs\\python\\python312\\lib\\site-packages (2.2.2)\n",
      "Requirement already satisfied: numpy>=1.26.0 in c:\\users\\sagni\\appdata\\local\\programs\\python\\python312\\lib\\site-packages (from pandas) (1.26.4)\n",
      "Requirement already satisfied: python-dateutil>=2.8.2 in c:\\users\\sagni\\appdata\\local\\programs\\python\\python312\\lib\\site-packages (from pandas) (2.9.0.post0)\n",
      "Requirement already satisfied: pytz>=2020.1 in c:\\users\\sagni\\appdata\\local\\programs\\python\\python312\\lib\\site-packages (from pandas) (2024.1)\n",
      "Requirement already satisfied: tzdata>=2022.7 in c:\\users\\sagni\\appdata\\local\\programs\\python\\python312\\lib\\site-packages (from pandas) (2024.1)\n",
      "Requirement already satisfied: six>=1.5 in c:\\users\\sagni\\appdata\\local\\programs\\python\\python312\\lib\\site-packages (from python-dateutil>=2.8.2->pandas) (1.16.0)\n",
      "Note: you may need to restart the kernel to use updated packages.\n"
     ]
    }
   ],
   "source": [
    "pip install pandas"
   ]
  },
  {
   "cell_type": "markdown",
   "metadata": {},
   "source": [
    "## Key Data Sructures in Pandas"
   ]
  },
  {
   "cell_type": "markdown",
   "metadata": {},
   "source": [
    "###### * Series (1-Dimensional)\n",
    "###### * DataFrame (2-Dimensional)"
   ]
  },
  {
   "cell_type": "code",
   "execution_count": 16,
   "metadata": {},
   "outputs": [
    {
     "data": {
      "text/plain": [
       "A    1\n",
       "B    2\n",
       "C    3\n",
       "D    4\n",
       "E    5\n",
       "dtype: int64"
      ]
     },
     "execution_count": 16,
     "metadata": {},
     "output_type": "execute_result"
    }
   ],
   "source": [
    "import pandas as pd\n",
    "s = pd.Series([1,2,3,4,5], index=[\"A\", \"B\", \"C\", \"D\", \"E\"])\n",
    "s"
   ]
  },
  {
   "cell_type": "code",
   "execution_count": 21,
   "metadata": {},
   "outputs": [
    {
     "data": {
      "application/vnd.microsoft.datawrangler.viewer.v0+json": {
       "columns": [
        {
         "name": "index",
         "rawType": "int64",
         "type": "integer"
        },
        {
         "name": "Name",
         "rawType": "object",
         "type": "string"
        },
        {
         "name": "Age",
         "rawType": "int64",
         "type": "integer"
        }
       ],
       "conversionMethod": "pd.DataFrame",
       "ref": "2439e992-81e8-4041-a2d0-4b23007f5dca",
       "rows": [
        [
         "1",
         "Sumit",
         "23"
        ],
        [
         "2",
         "Rohan",
         "34"
        ],
        [
         "3",
         "Trevor",
         "45"
        ]
       ],
       "shape": {
        "columns": 2,
        "rows": 3
       }
      },
      "text/html": [
       "<div>\n",
       "<style scoped>\n",
       "    .dataframe tbody tr th:only-of-type {\n",
       "        vertical-align: middle;\n",
       "    }\n",
       "\n",
       "    .dataframe tbody tr th {\n",
       "        vertical-align: top;\n",
       "    }\n",
       "\n",
       "    .dataframe thead th {\n",
       "        text-align: right;\n",
       "    }\n",
       "</style>\n",
       "<table border=\"1\" class=\"dataframe\">\n",
       "  <thead>\n",
       "    <tr style=\"text-align: right;\">\n",
       "      <th></th>\n",
       "      <th>Name</th>\n",
       "      <th>Age</th>\n",
       "    </tr>\n",
       "  </thead>\n",
       "  <tbody>\n",
       "    <tr>\n",
       "      <th>1</th>\n",
       "      <td>Sumit</td>\n",
       "      <td>23</td>\n",
       "    </tr>\n",
       "    <tr>\n",
       "      <th>2</th>\n",
       "      <td>Rohan</td>\n",
       "      <td>34</td>\n",
       "    </tr>\n",
       "    <tr>\n",
       "      <th>3</th>\n",
       "      <td>Trevor</td>\n",
       "      <td>45</td>\n",
       "    </tr>\n",
       "  </tbody>\n",
       "</table>\n",
       "</div>"
      ],
      "text/plain": [
       "     Name  Age\n",
       "1   Sumit   23\n",
       "2   Rohan   34\n",
       "3  Trevor   45"
      ]
     },
     "execution_count": 21,
     "metadata": {},
     "output_type": "execute_result"
    }
   ],
   "source": [
    "df = pd.DataFrame({\"Name\": [\"Sumit\", \"Rohan\", \"Trevor\"], \"Age\": [23, 34, 45]}, index=[1,2,3])\n",
    "df"
   ]
  },
  {
   "cell_type": "code",
   "execution_count": 22,
   "metadata": {},
   "outputs": [],
   "source": [
    "df=pd.read_csv(\"food delivery costs.csv\")"
   ]
  },
  {
   "cell_type": "code",
   "execution_count": 23,
   "metadata": {},
   "outputs": [
    {
     "data": {
      "application/vnd.microsoft.datawrangler.viewer.v0+json": {
       "columns": [
        {
         "name": "index",
         "rawType": "int64",
         "type": "integer"
        },
        {
         "name": "Order ID",
         "rawType": "int64",
         "type": "integer"
        },
        {
         "name": "Customer ID",
         "rawType": "object",
         "type": "string"
        },
        {
         "name": "Restaurant ID",
         "rawType": "object",
         "type": "string"
        },
        {
         "name": "Order Date and Time",
         "rawType": "object",
         "type": "string"
        },
        {
         "name": "Delivery Date and Time",
         "rawType": "object",
         "type": "string"
        },
        {
         "name": "Order Value",
         "rawType": "int64",
         "type": "integer"
        },
        {
         "name": "Delivery Fee",
         "rawType": "int64",
         "type": "integer"
        },
        {
         "name": "Payment Method",
         "rawType": "object",
         "type": "string"
        },
        {
         "name": "Discounts and Offers",
         "rawType": "object",
         "type": "unknown"
        },
        {
         "name": "Commission Fee",
         "rawType": "int64",
         "type": "integer"
        },
        {
         "name": "Payment Processing Fee",
         "rawType": "int64",
         "type": "integer"
        },
        {
         "name": "Refunds/Chargebacks",
         "rawType": "int64",
         "type": "integer"
        }
       ],
       "conversionMethod": "pd.DataFrame",
       "ref": "0ed92993-5c17-41f3-94a7-29fe556d224d",
       "rows": [
        [
         "0",
         "1",
         "C8270",
         "R2924",
         "2024-02-01 01:11:52",
         "2024-02-01 02:39:52",
         "1914",
         "0",
         "Credit Card",
         "5% on App",
         "150",
         "47",
         "0"
        ],
        [
         "1",
         "2",
         "C1860",
         "R2054",
         "2024-02-02 22:11:04",
         "2024-02-02 22:46:04",
         "986",
         "40",
         "Digital Wallet",
         "10%",
         "198",
         "23",
         "0"
        ],
        [
         "2",
         "3",
         "C6390",
         "R2870",
         "2024-01-31 05:54:35",
         "2024-01-31 06:52:35",
         "937",
         "30",
         "Cash on Delivery",
         "15% New User",
         "195",
         "45",
         "0"
        ],
        [
         "3",
         "4",
         "C6191",
         "R2642",
         "2024-01-16 22:52:49",
         "2024-01-16 23:38:49",
         "1463",
         "50",
         "Cash on Delivery",
         null,
         "146",
         "27",
         "0"
        ],
        [
         "4",
         "5",
         "C6734",
         "R2799",
         "2024-01-29 01:19:30",
         "2024-01-29 02:48:30",
         "1992",
         "30",
         "Cash on Delivery",
         "50 off Promo",
         "130",
         "50",
         "0"
        ]
       ],
       "shape": {
        "columns": 12,
        "rows": 5
       }
      },
      "text/html": [
       "<div>\n",
       "<style scoped>\n",
       "    .dataframe tbody tr th:only-of-type {\n",
       "        vertical-align: middle;\n",
       "    }\n",
       "\n",
       "    .dataframe tbody tr th {\n",
       "        vertical-align: top;\n",
       "    }\n",
       "\n",
       "    .dataframe thead th {\n",
       "        text-align: right;\n",
       "    }\n",
       "</style>\n",
       "<table border=\"1\" class=\"dataframe\">\n",
       "  <thead>\n",
       "    <tr style=\"text-align: right;\">\n",
       "      <th></th>\n",
       "      <th>Order ID</th>\n",
       "      <th>Customer ID</th>\n",
       "      <th>Restaurant ID</th>\n",
       "      <th>Order Date and Time</th>\n",
       "      <th>Delivery Date and Time</th>\n",
       "      <th>Order Value</th>\n",
       "      <th>Delivery Fee</th>\n",
       "      <th>Payment Method</th>\n",
       "      <th>Discounts and Offers</th>\n",
       "      <th>Commission Fee</th>\n",
       "      <th>Payment Processing Fee</th>\n",
       "      <th>Refunds/Chargebacks</th>\n",
       "    </tr>\n",
       "  </thead>\n",
       "  <tbody>\n",
       "    <tr>\n",
       "      <th>0</th>\n",
       "      <td>1</td>\n",
       "      <td>C8270</td>\n",
       "      <td>R2924</td>\n",
       "      <td>2024-02-01 01:11:52</td>\n",
       "      <td>2024-02-01 02:39:52</td>\n",
       "      <td>1914</td>\n",
       "      <td>0</td>\n",
       "      <td>Credit Card</td>\n",
       "      <td>5% on App</td>\n",
       "      <td>150</td>\n",
       "      <td>47</td>\n",
       "      <td>0</td>\n",
       "    </tr>\n",
       "    <tr>\n",
       "      <th>1</th>\n",
       "      <td>2</td>\n",
       "      <td>C1860</td>\n",
       "      <td>R2054</td>\n",
       "      <td>2024-02-02 22:11:04</td>\n",
       "      <td>2024-02-02 22:46:04</td>\n",
       "      <td>986</td>\n",
       "      <td>40</td>\n",
       "      <td>Digital Wallet</td>\n",
       "      <td>10%</td>\n",
       "      <td>198</td>\n",
       "      <td>23</td>\n",
       "      <td>0</td>\n",
       "    </tr>\n",
       "    <tr>\n",
       "      <th>2</th>\n",
       "      <td>3</td>\n",
       "      <td>C6390</td>\n",
       "      <td>R2870</td>\n",
       "      <td>2024-01-31 05:54:35</td>\n",
       "      <td>2024-01-31 06:52:35</td>\n",
       "      <td>937</td>\n",
       "      <td>30</td>\n",
       "      <td>Cash on Delivery</td>\n",
       "      <td>15% New User</td>\n",
       "      <td>195</td>\n",
       "      <td>45</td>\n",
       "      <td>0</td>\n",
       "    </tr>\n",
       "    <tr>\n",
       "      <th>3</th>\n",
       "      <td>4</td>\n",
       "      <td>C6191</td>\n",
       "      <td>R2642</td>\n",
       "      <td>2024-01-16 22:52:49</td>\n",
       "      <td>2024-01-16 23:38:49</td>\n",
       "      <td>1463</td>\n",
       "      <td>50</td>\n",
       "      <td>Cash on Delivery</td>\n",
       "      <td>NaN</td>\n",
       "      <td>146</td>\n",
       "      <td>27</td>\n",
       "      <td>0</td>\n",
       "    </tr>\n",
       "    <tr>\n",
       "      <th>4</th>\n",
       "      <td>5</td>\n",
       "      <td>C6734</td>\n",
       "      <td>R2799</td>\n",
       "      <td>2024-01-29 01:19:30</td>\n",
       "      <td>2024-01-29 02:48:30</td>\n",
       "      <td>1992</td>\n",
       "      <td>30</td>\n",
       "      <td>Cash on Delivery</td>\n",
       "      <td>50 off Promo</td>\n",
       "      <td>130</td>\n",
       "      <td>50</td>\n",
       "      <td>0</td>\n",
       "    </tr>\n",
       "  </tbody>\n",
       "</table>\n",
       "</div>"
      ],
      "text/plain": [
       "   Order ID Customer ID Restaurant ID  Order Date and Time  \\\n",
       "0         1       C8270         R2924  2024-02-01 01:11:52   \n",
       "1         2       C1860         R2054  2024-02-02 22:11:04   \n",
       "2         3       C6390         R2870  2024-01-31 05:54:35   \n",
       "3         4       C6191         R2642  2024-01-16 22:52:49   \n",
       "4         5       C6734         R2799  2024-01-29 01:19:30   \n",
       "\n",
       "  Delivery Date and Time  Order Value  Delivery Fee    Payment Method  \\\n",
       "0    2024-02-01 02:39:52         1914             0       Credit Card   \n",
       "1    2024-02-02 22:46:04          986            40    Digital Wallet   \n",
       "2    2024-01-31 06:52:35          937            30  Cash on Delivery   \n",
       "3    2024-01-16 23:38:49         1463            50  Cash on Delivery   \n",
       "4    2024-01-29 02:48:30         1992            30  Cash on Delivery   \n",
       "\n",
       "  Discounts and Offers  Commission Fee  Payment Processing Fee  \\\n",
       "0            5% on App             150                      47   \n",
       "1                  10%             198                      23   \n",
       "2         15% New User             195                      45   \n",
       "3                  NaN             146                      27   \n",
       "4         50 off Promo             130                      50   \n",
       "\n",
       "   Refunds/Chargebacks  \n",
       "0                    0  \n",
       "1                    0  \n",
       "2                    0  \n",
       "3                    0  \n",
       "4                    0  "
      ]
     },
     "execution_count": 23,
     "metadata": {},
     "output_type": "execute_result"
    }
   ],
   "source": [
    "df.head()"
   ]
  },
  {
   "cell_type": "code",
   "execution_count": 24,
   "metadata": {},
   "outputs": [
    {
     "data": {
      "application/vnd.microsoft.datawrangler.viewer.v0+json": {
       "columns": [
        {
         "name": "index",
         "rawType": "int64",
         "type": "integer"
        },
        {
         "name": "Order ID",
         "rawType": "int64",
         "type": "integer"
        },
        {
         "name": "Customer ID",
         "rawType": "object",
         "type": "string"
        },
        {
         "name": "Restaurant ID",
         "rawType": "object",
         "type": "string"
        },
        {
         "name": "Order Date and Time",
         "rawType": "object",
         "type": "string"
        },
        {
         "name": "Delivery Date and Time",
         "rawType": "object",
         "type": "string"
        },
        {
         "name": "Order Value",
         "rawType": "int64",
         "type": "integer"
        },
        {
         "name": "Delivery Fee",
         "rawType": "int64",
         "type": "integer"
        },
        {
         "name": "Payment Method",
         "rawType": "object",
         "type": "string"
        },
        {
         "name": "Discounts and Offers",
         "rawType": "object",
         "type": "unknown"
        },
        {
         "name": "Commission Fee",
         "rawType": "int64",
         "type": "integer"
        },
        {
         "name": "Payment Processing Fee",
         "rawType": "int64",
         "type": "integer"
        },
        {
         "name": "Refunds/Chargebacks",
         "rawType": "int64",
         "type": "integer"
        }
       ],
       "conversionMethod": "pd.DataFrame",
       "ref": "d63ff64b-70a8-4ab2-87e7-2f2395cdbfdc",
       "rows": [
        [
         "995",
         "996",
         "C6232",
         "R2129",
         "2024-01-14 05:57:00",
         "2024-01-14 06:39:00",
         "825",
         "0",
         "Digital Wallet",
         "5% on App",
         "165",
         "47",
         "50"
        ],
        [
         "996",
         "997",
         "C6797",
         "R2742",
         "2024-01-28 08:50:43",
         "2024-01-28 10:10:43",
         "1627",
         "50",
         "Cash on Delivery",
         null,
         "110",
         "42",
         "0"
        ],
        [
         "997",
         "998",
         "C5926",
         "R2837",
         "2024-01-21 09:43:19",
         "2024-01-21 10:44:19",
         "553",
         "20",
         "Cash on Delivery",
         null,
         "64",
         "31",
         "0"
        ],
        [
         "998",
         "999",
         "C7016",
         "R2144",
         "2024-01-30 22:23:38",
         "2024-01-31 00:07:38",
         "1414",
         "0",
         "Cash on Delivery",
         "15% New User",
         "199",
         "34",
         "0"
        ],
        [
         "999",
         "1000",
         "C4335",
         "R2890",
         "2024-01-08 14:46:43",
         "2024-01-08 15:39:43",
         "1657",
         "20",
         "Digital Wallet",
         "15% New User",
         "180",
         "27",
         "100"
        ]
       ],
       "shape": {
        "columns": 12,
        "rows": 5
       }
      },
      "text/html": [
       "<div>\n",
       "<style scoped>\n",
       "    .dataframe tbody tr th:only-of-type {\n",
       "        vertical-align: middle;\n",
       "    }\n",
       "\n",
       "    .dataframe tbody tr th {\n",
       "        vertical-align: top;\n",
       "    }\n",
       "\n",
       "    .dataframe thead th {\n",
       "        text-align: right;\n",
       "    }\n",
       "</style>\n",
       "<table border=\"1\" class=\"dataframe\">\n",
       "  <thead>\n",
       "    <tr style=\"text-align: right;\">\n",
       "      <th></th>\n",
       "      <th>Order ID</th>\n",
       "      <th>Customer ID</th>\n",
       "      <th>Restaurant ID</th>\n",
       "      <th>Order Date and Time</th>\n",
       "      <th>Delivery Date and Time</th>\n",
       "      <th>Order Value</th>\n",
       "      <th>Delivery Fee</th>\n",
       "      <th>Payment Method</th>\n",
       "      <th>Discounts and Offers</th>\n",
       "      <th>Commission Fee</th>\n",
       "      <th>Payment Processing Fee</th>\n",
       "      <th>Refunds/Chargebacks</th>\n",
       "    </tr>\n",
       "  </thead>\n",
       "  <tbody>\n",
       "    <tr>\n",
       "      <th>995</th>\n",
       "      <td>996</td>\n",
       "      <td>C6232</td>\n",
       "      <td>R2129</td>\n",
       "      <td>2024-01-14 05:57:00</td>\n",
       "      <td>2024-01-14 06:39:00</td>\n",
       "      <td>825</td>\n",
       "      <td>0</td>\n",
       "      <td>Digital Wallet</td>\n",
       "      <td>5% on App</td>\n",
       "      <td>165</td>\n",
       "      <td>47</td>\n",
       "      <td>50</td>\n",
       "    </tr>\n",
       "    <tr>\n",
       "      <th>996</th>\n",
       "      <td>997</td>\n",
       "      <td>C6797</td>\n",
       "      <td>R2742</td>\n",
       "      <td>2024-01-28 08:50:43</td>\n",
       "      <td>2024-01-28 10:10:43</td>\n",
       "      <td>1627</td>\n",
       "      <td>50</td>\n",
       "      <td>Cash on Delivery</td>\n",
       "      <td>NaN</td>\n",
       "      <td>110</td>\n",
       "      <td>42</td>\n",
       "      <td>0</td>\n",
       "    </tr>\n",
       "    <tr>\n",
       "      <th>997</th>\n",
       "      <td>998</td>\n",
       "      <td>C5926</td>\n",
       "      <td>R2837</td>\n",
       "      <td>2024-01-21 09:43:19</td>\n",
       "      <td>2024-01-21 10:44:19</td>\n",
       "      <td>553</td>\n",
       "      <td>20</td>\n",
       "      <td>Cash on Delivery</td>\n",
       "      <td>NaN</td>\n",
       "      <td>64</td>\n",
       "      <td>31</td>\n",
       "      <td>0</td>\n",
       "    </tr>\n",
       "    <tr>\n",
       "      <th>998</th>\n",
       "      <td>999</td>\n",
       "      <td>C7016</td>\n",
       "      <td>R2144</td>\n",
       "      <td>2024-01-30 22:23:38</td>\n",
       "      <td>2024-01-31 00:07:38</td>\n",
       "      <td>1414</td>\n",
       "      <td>0</td>\n",
       "      <td>Cash on Delivery</td>\n",
       "      <td>15% New User</td>\n",
       "      <td>199</td>\n",
       "      <td>34</td>\n",
       "      <td>0</td>\n",
       "    </tr>\n",
       "    <tr>\n",
       "      <th>999</th>\n",
       "      <td>1000</td>\n",
       "      <td>C4335</td>\n",
       "      <td>R2890</td>\n",
       "      <td>2024-01-08 14:46:43</td>\n",
       "      <td>2024-01-08 15:39:43</td>\n",
       "      <td>1657</td>\n",
       "      <td>20</td>\n",
       "      <td>Digital Wallet</td>\n",
       "      <td>15% New User</td>\n",
       "      <td>180</td>\n",
       "      <td>27</td>\n",
       "      <td>100</td>\n",
       "    </tr>\n",
       "  </tbody>\n",
       "</table>\n",
       "</div>"
      ],
      "text/plain": [
       "     Order ID Customer ID Restaurant ID  Order Date and Time  \\\n",
       "995       996       C6232         R2129  2024-01-14 05:57:00   \n",
       "996       997       C6797         R2742  2024-01-28 08:50:43   \n",
       "997       998       C5926         R2837  2024-01-21 09:43:19   \n",
       "998       999       C7016         R2144  2024-01-30 22:23:38   \n",
       "999      1000       C4335         R2890  2024-01-08 14:46:43   \n",
       "\n",
       "    Delivery Date and Time  Order Value  Delivery Fee    Payment Method  \\\n",
       "995    2024-01-14 06:39:00          825             0    Digital Wallet   \n",
       "996    2024-01-28 10:10:43         1627            50  Cash on Delivery   \n",
       "997    2024-01-21 10:44:19          553            20  Cash on Delivery   \n",
       "998    2024-01-31 00:07:38         1414             0  Cash on Delivery   \n",
       "999    2024-01-08 15:39:43         1657            20    Digital Wallet   \n",
       "\n",
       "    Discounts and Offers  Commission Fee  Payment Processing Fee  \\\n",
       "995            5% on App             165                      47   \n",
       "996                  NaN             110                      42   \n",
       "997                  NaN              64                      31   \n",
       "998         15% New User             199                      34   \n",
       "999         15% New User             180                      27   \n",
       "\n",
       "     Refunds/Chargebacks  \n",
       "995                   50  \n",
       "996                    0  \n",
       "997                    0  \n",
       "998                    0  \n",
       "999                  100  "
      ]
     },
     "execution_count": 24,
     "metadata": {},
     "output_type": "execute_result"
    }
   ],
   "source": [
    "df.tail()"
   ]
  },
  {
   "cell_type": "code",
   "execution_count": 25,
   "metadata": {},
   "outputs": [
    {
     "name": "stdout",
     "output_type": "stream",
     "text": [
      "<class 'pandas.core.frame.DataFrame'>\n",
      "RangeIndex: 1000 entries, 0 to 999\n",
      "Data columns (total 12 columns):\n",
      " #   Column                  Non-Null Count  Dtype \n",
      "---  ------                  --------------  ----- \n",
      " 0   Order ID                1000 non-null   int64 \n",
      " 1   Customer ID             1000 non-null   object\n",
      " 2   Restaurant ID           1000 non-null   object\n",
      " 3   Order Date and Time     1000 non-null   object\n",
      " 4   Delivery Date and Time  1000 non-null   object\n",
      " 5   Order Value             1000 non-null   int64 \n",
      " 6   Delivery Fee            1000 non-null   int64 \n",
      " 7   Payment Method          1000 non-null   object\n",
      " 8   Discounts and Offers    815 non-null    object\n",
      " 9   Commission Fee          1000 non-null   int64 \n",
      " 10  Payment Processing Fee  1000 non-null   int64 \n",
      " 11  Refunds/Chargebacks     1000 non-null   int64 \n",
      "dtypes: int64(6), object(6)\n",
      "memory usage: 93.9+ KB\n"
     ]
    }
   ],
   "source": [
    "df.info()"
   ]
  },
  {
   "cell_type": "markdown",
   "metadata": {},
   "source": [
    "## Data Selection"
   ]
  },
  {
   "cell_type": "code",
   "execution_count": 28,
   "metadata": {},
   "outputs": [
    {
     "data": {
      "text/plain": [
       "0      C8270\n",
       "1      C1860\n",
       "2      C6390\n",
       "3      C6191\n",
       "4      C6734\n",
       "       ...  \n",
       "995    C6232\n",
       "996    C6797\n",
       "997    C5926\n",
       "998    C7016\n",
       "999    C4335\n",
       "Name: Customer ID, Length: 1000, dtype: object"
      ]
     },
     "execution_count": 28,
     "metadata": {},
     "output_type": "execute_result"
    }
   ],
   "source": [
    "df[\"Customer ID\"]"
   ]
  },
  {
   "cell_type": "code",
   "execution_count": 29,
   "metadata": {},
   "outputs": [
    {
     "data": {
      "text/plain": [
       "pandas.core.series.Series"
      ]
     },
     "execution_count": 29,
     "metadata": {},
     "output_type": "execute_result"
    }
   ],
   "source": [
    "type(df[\"Customer ID\"])"
   ]
  },
  {
   "cell_type": "code",
   "execution_count": 34,
   "metadata": {},
   "outputs": [
    {
     "data": {
      "application/vnd.microsoft.datawrangler.viewer.v0+json": {
       "columns": [
        {
         "name": "index",
         "rawType": "int64",
         "type": "integer"
        },
        {
         "name": "Customer ID",
         "rawType": "object",
         "type": "string"
        },
        {
         "name": "Delivery Fee",
         "rawType": "int64",
         "type": "integer"
        }
       ],
       "conversionMethod": "pd.DataFrame",
       "ref": "443af9d8-7f5c-43c5-b63f-008192b15136",
       "rows": [
        [
         "0",
         "C8270",
         "0"
        ],
        [
         "1",
         "C1860",
         "40"
        ],
        [
         "2",
         "C6390",
         "30"
        ],
        [
         "3",
         "C6191",
         "50"
        ],
        [
         "4",
         "C6734",
         "30"
        ],
        [
         "5",
         "C7265",
         "20"
        ],
        [
         "6",
         "C1466",
         "30"
        ],
        [
         "7",
         "C5426",
         "0"
        ],
        [
         "8",
         "C6578",
         "40"
        ],
        [
         "9",
         "C9322",
         "40"
        ],
        [
         "10",
         "C2685",
         "0"
        ],
        [
         "11",
         "C1769",
         "20"
        ],
        [
         "12",
         "C7949",
         "0"
        ],
        [
         "13",
         "C3433",
         "30"
        ],
        [
         "14",
         "C6311",
         "0"
        ],
        [
         "15",
         "C6051",
         "0"
        ],
        [
         "16",
         "C7420",
         "20"
        ],
        [
         "17",
         "C2184",
         "30"
        ],
        [
         "18",
         "C5555",
         "50"
        ],
        [
         "19",
         "C4385",
         "50"
        ],
        [
         "20",
         "C7396",
         "40"
        ],
        [
         "21",
         "C9666",
         "0"
        ],
        [
         "22",
         "C3558",
         "40"
        ],
        [
         "23",
         "C8849",
         "20"
        ],
        [
         "24",
         "C3047",
         "50"
        ],
        [
         "25",
         "C3747",
         "0"
        ],
        [
         "26",
         "C1189",
         "20"
        ],
        [
         "27",
         "C3734",
         "20"
        ],
        [
         "28",
         "C4005",
         "0"
        ],
        [
         "29",
         "C5658",
         "20"
        ],
        [
         "30",
         "C2899",
         "0"
        ],
        [
         "31",
         "C8734",
         "0"
        ],
        [
         "32",
         "C2267",
         "30"
        ],
        [
         "33",
         "C2528",
         "40"
        ],
        [
         "34",
         "C4556",
         "20"
        ],
        [
         "35",
         "C4890",
         "20"
        ],
        [
         "36",
         "C9838",
         "30"
        ],
        [
         "37",
         "C6393",
         "30"
        ],
        [
         "38",
         "C9792",
         "30"
        ],
        [
         "39",
         "C9433",
         "50"
        ],
        [
         "40",
         "C8513",
         "50"
        ],
        [
         "41",
         "C3612",
         "50"
        ],
        [
         "42",
         "C8041",
         "0"
        ],
        [
         "43",
         "C7235",
         "20"
        ],
        [
         "44",
         "C6486",
         "40"
        ],
        [
         "45",
         "C8099",
         "0"
        ],
        [
         "46",
         "C1775",
         "20"
        ],
        [
         "47",
         "C9226",
         "20"
        ],
        [
         "48",
         "C4152",
         "30"
        ],
        [
         "49",
         "C2585",
         "30"
        ]
       ],
       "shape": {
        "columns": 2,
        "rows": 1000
       }
      },
      "text/html": [
       "<div>\n",
       "<style scoped>\n",
       "    .dataframe tbody tr th:only-of-type {\n",
       "        vertical-align: middle;\n",
       "    }\n",
       "\n",
       "    .dataframe tbody tr th {\n",
       "        vertical-align: top;\n",
       "    }\n",
       "\n",
       "    .dataframe thead th {\n",
       "        text-align: right;\n",
       "    }\n",
       "</style>\n",
       "<table border=\"1\" class=\"dataframe\">\n",
       "  <thead>\n",
       "    <tr style=\"text-align: right;\">\n",
       "      <th></th>\n",
       "      <th>Customer ID</th>\n",
       "      <th>Delivery Fee</th>\n",
       "    </tr>\n",
       "  </thead>\n",
       "  <tbody>\n",
       "    <tr>\n",
       "      <th>0</th>\n",
       "      <td>C8270</td>\n",
       "      <td>0</td>\n",
       "    </tr>\n",
       "    <tr>\n",
       "      <th>1</th>\n",
       "      <td>C1860</td>\n",
       "      <td>40</td>\n",
       "    </tr>\n",
       "    <tr>\n",
       "      <th>2</th>\n",
       "      <td>C6390</td>\n",
       "      <td>30</td>\n",
       "    </tr>\n",
       "    <tr>\n",
       "      <th>3</th>\n",
       "      <td>C6191</td>\n",
       "      <td>50</td>\n",
       "    </tr>\n",
       "    <tr>\n",
       "      <th>4</th>\n",
       "      <td>C6734</td>\n",
       "      <td>30</td>\n",
       "    </tr>\n",
       "    <tr>\n",
       "      <th>...</th>\n",
       "      <td>...</td>\n",
       "      <td>...</td>\n",
       "    </tr>\n",
       "    <tr>\n",
       "      <th>995</th>\n",
       "      <td>C6232</td>\n",
       "      <td>0</td>\n",
       "    </tr>\n",
       "    <tr>\n",
       "      <th>996</th>\n",
       "      <td>C6797</td>\n",
       "      <td>50</td>\n",
       "    </tr>\n",
       "    <tr>\n",
       "      <th>997</th>\n",
       "      <td>C5926</td>\n",
       "      <td>20</td>\n",
       "    </tr>\n",
       "    <tr>\n",
       "      <th>998</th>\n",
       "      <td>C7016</td>\n",
       "      <td>0</td>\n",
       "    </tr>\n",
       "    <tr>\n",
       "      <th>999</th>\n",
       "      <td>C4335</td>\n",
       "      <td>20</td>\n",
       "    </tr>\n",
       "  </tbody>\n",
       "</table>\n",
       "<p>1000 rows × 2 columns</p>\n",
       "</div>"
      ],
      "text/plain": [
       "    Customer ID  Delivery Fee\n",
       "0         C8270             0\n",
       "1         C1860            40\n",
       "2         C6390            30\n",
       "3         C6191            50\n",
       "4         C6734            30\n",
       "..          ...           ...\n",
       "995       C6232             0\n",
       "996       C6797            50\n",
       "997       C5926            20\n",
       "998       C7016             0\n",
       "999       C4335            20\n",
       "\n",
       "[1000 rows x 2 columns]"
      ]
     },
     "execution_count": 34,
     "metadata": {},
     "output_type": "execute_result"
    }
   ],
   "source": [
    "df[[\"Customer ID\", \"Delivery Fee\"]]"
   ]
  },
  {
   "cell_type": "code",
   "execution_count": 38,
   "metadata": {},
   "outputs": [
    {
     "data": {
      "text/plain": [
       "Order ID                                    1\n",
       "Customer ID                             C8270\n",
       "Restaurant ID                           R2924\n",
       "Order Date and Time       2024-02-01 01:11:52\n",
       "Delivery Date and Time    2024-02-01 02:39:52\n",
       "Order Value                              1914\n",
       "Delivery Fee                                0\n",
       "Payment Method                    Credit Card\n",
       "Discounts and Offers                5% on App\n",
       "Commission Fee                            150\n",
       "Payment Processing Fee                     47\n",
       "Refunds/Chargebacks                         0\n",
       "Name: 0, dtype: object"
      ]
     },
     "execution_count": 38,
     "metadata": {},
     "output_type": "execute_result"
    }
   ],
   "source": [
    "df.iloc[0]"
   ]
  },
  {
   "cell_type": "code",
   "execution_count": null,
   "metadata": {},
   "outputs": [],
   "source": []
  }
 ],
 "metadata": {
  "kernelspec": {
   "display_name": "Python 3",
   "language": "python",
   "name": "python3"
  },
  "language_info": {
   "codemirror_mode": {
    "name": "ipython",
    "version": 3
   },
   "file_extension": ".py",
   "mimetype": "text/x-python",
   "name": "python",
   "nbconvert_exporter": "python",
   "pygments_lexer": "ipython3",
   "version": "3.12.4"
  }
 },
 "nbformat": 4,
 "nbformat_minor": 2
}
